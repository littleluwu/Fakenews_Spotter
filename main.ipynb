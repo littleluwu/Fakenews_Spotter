{
 "cells": [
  {
   "cell_type": "markdown",
   "metadata": {},
   "source": [
    "# **Spotting Fake News with Python**\n",
    "\n",
    "This project aims to investigate the task of spotting fake news and apply classic and modern machine learning techniques to develop a model that can classify news as real or fake. It is part of an assignment for the course `486205 - APRENDIZADO DE MÁQUINA` at the **Federal University of São Carlos (UFSCar)**, lectured by the professor **Tiago A. Almeida**."
   ]
  },
  {
   "cell_type": "markdown",
   "metadata": {},
   "source": [
    "---\n",
    "## **Enviroment Setup and Loading Data**\n",
    "\n",
    "The first step in this problem is to import the tools we will need further in the project. To begin the setup, we imported **pandas** and **NumPy** to manipulate the data.\n",
    "\n",
    "News is written in a natural language that humans understand, so it is necessary to clean and prepare this data for machine processing. To satisfy our natural language processing needs throughout the project, we have decided to use the **NLTK** and **SkLearn** libraries. \n",
    "\n",
    "To improve our understanding of the task and the data we are working with, we have chosen **matplotlib** and **seaborn** as our visualization libraries to clarify the extracted information from the processed news.\n",
    "\n",
    "Compiling all the decisions, we imported the following libraries for this project:\n",
    "\n",
    "- pandas\n",
    "- NumPy\n",
    "- NLTK\n",
    "- SkLearn\n",
    "- matplotlib\n",
    "- seaborn"
   ]
  },
  {
   "cell_type": "code",
   "execution_count": null,
   "metadata": {},
   "outputs": [],
   "source": [
    "#Basic imports\n",
    "import numpy as np\n",
    "import pandas as pd\n",
    "\n",
    "#NLP\n",
    "import nltk\n",
    "import sklearn\n",
    "\n",
    "#Visualization\n",
    "import matplotlib.pyplot as plt\n",
    "import seaborn as sns"
   ]
  },
  {
   "cell_type": "markdown",
   "metadata": {},
   "source": [
    "The data we are using in this project was provided by the professor for use in the assignment. It compiles news automatically collected during 2019 and 2020 with no supervision. This indicates the possibility of data corruption or information loss during the collection phase. A given news presented in the dataset can be classified in a binary way:\n",
    "\n",
    "- **1** -> The news is <span style=\"color:LightGreen\">trustworthy</span> (Real).\n",
    "- **0** -> The news is <span style=\"color:Tomato\">not trustworthy</span> (Possibly Fake).\n",
    "\n",
    "However, it wasn't possible to check if the information was reliable in a large amount of samples. Thus, these news articles do not exhibit any label attached to them. The data is organized by month and year in separate CSV files, which include a unique identification for each article, both the titles and contents, the date when the article written and the binary label attached to them. To work with this data, we imported each file and compiled them in a single data frame."
   ]
  },
  {
   "cell_type": "code",
   "execution_count": null,
   "metadata": {},
   "outputs": [],
   "source": [
    "files = [\"news_data_01_Jan_2019.csv\",\n",
    "         \"news_data_02_Feb_2019.csv\",\n",
    "         \"news_data_03_Mar_2019.csv\",\n",
    "         \"news_data_04_Apr_2019.csv\",\n",
    "         \"news_data_05_May_2019.csv\",\n",
    "         \"news_data_06_Jun_2019.csv\",\n",
    "        # \"news_data_07_Jul_2019.csv\",\n",
    "        #  \"news_data_08_Aug_2019.csv\",\n",
    "        #  \"news_data_09_Sep_2019.csv\",\n",
    "        #  \"news_data_10_Oct_2019.csv\",\n",
    "        #  \"news_data_11_Nov_2019.csv\",\n",
    "        #  \"news_data_12_Dec_2019.csv\",\n",
    "        #  \"news_data_13_Jan_2020.csv\",\n",
    "        #  \"news_data_14_Feb_2020.csv\",\n",
    "        #  \"news_data_15_Mar_2020.csv\",\n",
    "        #  \"news_data_16_Apr_2020.csv\",\n",
    "        #  \"news_data_17_May_2020.csv\",\n",
    "        #  \"news_data_18_Jun_2020.csv\",\n",
    "        #  \"news_data_19_Jul_2020.csv\",\n",
    "        #  \"news_data_20_Aug_2020.csv\",\n",
    "        #  \"news_data_21_Sep_2020.csv\",\n",
    "        #  \"news_data_22_Oct_2020.csv\",\n",
    "        #  \"news_data_23_Nov_2020.csv\",\n",
    "        #  \"news_data_24_Dec_2020.csv\",\n",
    "         ]\n",
    "\n",
    "data = pd.concat((pd.read_csv(\"./data/\"+f) for f in files), ignore_index=True)\n",
    "data.set_index('id',inplace=True)\n",
    "\n",
    "Y = pd.read_csv('./data/train.csv')\n",
    "Y.set_index('id',inplace=True)\n",
    "data = data.join(Y)\n",
    "data.rename(columns={\"label\": \"class_label\"},inplace=True)"
   ]
  },
  {
   "cell_type": "markdown",
   "metadata": {},
   "source": [
    "---\n",
    "## **Exploring the news and their content**\n",
    "\n",
    "First, we looked at some of the news and their content. We can observe the lack of annotation in many news articles. Another thing we immediately notice is the massive size of the dataset, with over 2 million articles in total."
   ]
  },
  {
   "cell_type": "code",
   "execution_count": 25,
   "metadata": {},
   "outputs": [
    {
     "data": {
      "text/html": [
       "<div>\n",
       "<style scoped>\n",
       "    .dataframe tbody tr th:only-of-type {\n",
       "        vertical-align: middle;\n",
       "    }\n",
       "\n",
       "    .dataframe tbody tr th {\n",
       "        vertical-align: top;\n",
       "    }\n",
       "\n",
       "    .dataframe thead th {\n",
       "        text-align: right;\n",
       "    }\n",
       "</style>\n",
       "<table border=\"1\" class=\"dataframe\">\n",
       "  <thead>\n",
       "    <tr style=\"text-align: right;\">\n",
       "      <th></th>\n",
       "      <th>title</th>\n",
       "      <th>content</th>\n",
       "      <th>date</th>\n",
       "      <th>label</th>\n",
       "    </tr>\n",
       "    <tr>\n",
       "      <th>id</th>\n",
       "      <th></th>\n",
       "      <th></th>\n",
       "      <th></th>\n",
       "      <th></th>\n",
       "    </tr>\n",
       "  </thead>\n",
       "  <tbody>\n",
       "    <tr>\n",
       "      <th>id-1070176</th>\n",
       "      <td>Five signings Man City could make to cure thei...</td>\n",
       "      <td>In World Cup winner Benjamin Mendy , Man City ...</td>\n",
       "      <td>2019-01-16</td>\n",
       "      <td>NaN</td>\n",
       "    </tr>\n",
       "    <tr>\n",
       "      <th>id-1072326</th>\n",
       "      <td>How hackers could have stolen your seats or ca...</td>\n",
       "      <td>PASSENGERS travelling with one of 141 internat...</td>\n",
       "      <td>2019-01-17</td>\n",
       "      <td>NaN</td>\n",
       "    </tr>\n",
       "    <tr>\n",
       "      <th>id-1062508</th>\n",
       "      <td>Onimusha: Warlords review | Switch, PS4 and Xb...</td>\n",
       "      <td>At times it can feel that Capcom ’ s samurai a...</td>\n",
       "      <td>2019-01-15</td>\n",
       "      <td>0.0</td>\n",
       "    </tr>\n",
       "    <tr>\n",
       "      <th>id-1080550</th>\n",
       "      <td>From bins bedlam to Brexit - an eventful year ...</td>\n",
       "      <td>The Local Democracy Reporting Scheme is markin...</td>\n",
       "      <td>2019-01-18</td>\n",
       "      <td>NaN</td>\n",
       "    </tr>\n",
       "    <tr>\n",
       "      <th>id-1114787</th>\n",
       "      <td>New York Aborted More Babies In Three Years Th...</td>\n",
       "      <td>New York saw more abortions in a three-year ti...</td>\n",
       "      <td>2019-01-26</td>\n",
       "      <td>1.0</td>\n",
       "    </tr>\n",
       "    <tr>\n",
       "      <th>...</th>\n",
       "      <td>...</td>\n",
       "      <td>...</td>\n",
       "      <td>...</td>\n",
       "      <td>...</td>\n",
       "    </tr>\n",
       "    <tr>\n",
       "      <th>id-1543064</th>\n",
       "      <td>German road toll discriminates against foreign...</td>\n",
       "      <td>A planned German motorway toll is against EU l...</td>\n",
       "      <td>2019-06-18</td>\n",
       "      <td>0.0</td>\n",
       "    </tr>\n",
       "    <tr>\n",
       "      <th>id-1545690</th>\n",
       "      <td>Man Who Shared Video of Christchurch Shooting ...</td>\n",
       "      <td>The man responsible for distributing a video o...</td>\n",
       "      <td>2019-06-18</td>\n",
       "      <td>NaN</td>\n",
       "    </tr>\n",
       "    <tr>\n",
       "      <th>id-1592577</th>\n",
       "      <td>John Humphrys drops out of BBC top ten earners...</td>\n",
       "      <td>John Humphrys has fallen out of the BBC ’ s to...</td>\n",
       "      <td>2019-06-30</td>\n",
       "      <td>0.0</td>\n",
       "    </tr>\n",
       "    <tr>\n",
       "      <th>id-1567523</th>\n",
       "      <td>Federal debt is projected to jump to a record ...</td>\n",
       "      <td>Federal debt is projected to jump to post-Worl...</td>\n",
       "      <td>2019-06-25</td>\n",
       "      <td>0.0</td>\n",
       "    </tr>\n",
       "    <tr>\n",
       "      <th>id-1527366</th>\n",
       "      <td>Drinking 25 cups of coffee a day is ‘like drin...</td>\n",
       "      <td>DRINKING 25 cups of coffee a day may not harm ...</td>\n",
       "      <td>2019-06-02</td>\n",
       "      <td>NaN</td>\n",
       "    </tr>\n",
       "  </tbody>\n",
       "</table>\n",
       "<p>595247 rows × 4 columns</p>\n",
       "</div>"
      ],
      "text/plain": [
       "                                                        title  \\\n",
       "id                                                              \n",
       "id-1070176  Five signings Man City could make to cure thei...   \n",
       "id-1072326  How hackers could have stolen your seats or ca...   \n",
       "id-1062508  Onimusha: Warlords review | Switch, PS4 and Xb...   \n",
       "id-1080550  From bins bedlam to Brexit - an eventful year ...   \n",
       "id-1114787  New York Aborted More Babies In Three Years Th...   \n",
       "...                                                       ...   \n",
       "id-1543064  German road toll discriminates against foreign...   \n",
       "id-1545690  Man Who Shared Video of Christchurch Shooting ...   \n",
       "id-1592577  John Humphrys drops out of BBC top ten earners...   \n",
       "id-1567523  Federal debt is projected to jump to a record ...   \n",
       "id-1527366  Drinking 25 cups of coffee a day is ‘like drin...   \n",
       "\n",
       "                                                      content        date  \\\n",
       "id                                                                          \n",
       "id-1070176  In World Cup winner Benjamin Mendy , Man City ...  2019-01-16   \n",
       "id-1072326  PASSENGERS travelling with one of 141 internat...  2019-01-17   \n",
       "id-1062508  At times it can feel that Capcom ’ s samurai a...  2019-01-15   \n",
       "id-1080550  The Local Democracy Reporting Scheme is markin...  2019-01-18   \n",
       "id-1114787  New York saw more abortions in a three-year ti...  2019-01-26   \n",
       "...                                                       ...         ...   \n",
       "id-1543064  A planned German motorway toll is against EU l...  2019-06-18   \n",
       "id-1545690  The man responsible for distributing a video o...  2019-06-18   \n",
       "id-1592577  John Humphrys has fallen out of the BBC ’ s to...  2019-06-30   \n",
       "id-1567523  Federal debt is projected to jump to post-Worl...  2019-06-25   \n",
       "id-1527366  DRINKING 25 cups of coffee a day may not harm ...  2019-06-02   \n",
       "\n",
       "            label  \n",
       "id                 \n",
       "id-1070176    NaN  \n",
       "id-1072326    NaN  \n",
       "id-1062508    0.0  \n",
       "id-1080550    NaN  \n",
       "id-1114787    1.0  \n",
       "...           ...  \n",
       "id-1543064    0.0  \n",
       "id-1545690    NaN  \n",
       "id-1592577    0.0  \n",
       "id-1567523    0.0  \n",
       "id-1527366    NaN  \n",
       "\n",
       "[595247 rows x 4 columns]"
      ]
     },
     "metadata": {},
     "output_type": "display_data"
    }
   ],
   "source": [
    "display(data)"
   ]
  },
  {
   "cell_type": "markdown",
   "metadata": {},
   "source": [
    "To better understand the impact of the missing labels and possible information loss during the collection phase, we further investigate the missing values counting their occurrence and the relative percentage of missing values for each feature. While some articles may lack titles or content information, only about $1\\%$ of the total articles are affected by this. When looking at the missing labels, we can observe that around $50\\%$ of the articles aren't classified, half of the dataset size."
   ]
  },
  {
   "cell_type": "code",
   "execution_count": 26,
   "metadata": {},
   "outputs": [
    {
     "name": "stdout",
     "output_type": "stream",
     "text": [
      "\u001b[93mNaN values in each column:\u001b[0m\n",
      "title        6058\n",
      "content      7072\n",
      "date            0\n",
      "label      308357\n",
      "dtype: int64\n",
      "\n",
      "\u001b[93mPercentage of NaN values in each column:\u001b[0m\n",
      "title       1.017729\n",
      "content     1.188078\n",
      "date        0.000000\n",
      "label      51.803201\n",
      "dtype: float64\n",
      "\n",
      "\u001b[93mTotal NaN values in the dataset:\u001b[0m\n",
      "321487\n"
     ]
    }
   ],
   "source": [
    "# Counting NaN values in each column\n",
    "nan_counts = data.isna().sum()\n",
    "print(f\"\\033[93mNaN values in each column:\\033[0m\\n{nan_counts}\\n\")\n",
    "\n",
    "# Calculating the percentage of NaN values in each column\n",
    "nan_percentage = (nan_counts / len(data)) * 100\n",
    "print(f\"\\033[93mPercentage of NaN values in each column:\\033[0m\\n{nan_percentage}\\n\")\n",
    "\n",
    "# Counting the total number of NaN values in the dataset\n",
    "total_nan = nan_counts.sum()\n",
    "print(f\"\\033[93mTotal NaN values in the dataset:\\033[0m\\n{total_nan}\")"
   ]
  },
  {
   "cell_type": "markdown",
   "metadata": {},
   "source": [
    "This lack of information poses a significant challenge in classifying news articles. We are not specialized in this area to accurately fill in the missing labels. Therefore, we decided to exclude these articles from the dataset and only work with items that have a label."
   ]
  },
  {
   "cell_type": "code",
   "execution_count": null,
   "metadata": {},
   "outputs": [],
   "source": [
    "# Excluding the NaN values\n",
    "data.dropna(inplace=True)"
   ]
  },
  {
   "cell_type": "markdown",
   "metadata": {},
   "source": [
    "Moving further into the exploratory analysis phase, we checked the distribution of real and fake labeled articles in the dataset. For this, we counted each label and graphed them in a bar plot with the amount of articles and percentage for each label. The bars are color-coded <span style=\"color:LightGreen\">green</span> for <span style=\"color:LightGreen\">trustworthy articles</span> and <span style=\"color:Tomato\">red</span> for <span style=\"color:Tomato\">untrustworthy articles</span>. We can notice that there are considerably more fake articles in the data compared to real ones. Almost $80\\%$ of the news articles are fake, which is something we had to account for later in the training stages."
   ]
  },
  {
   "cell_type": "code",
   "execution_count": null,
   "metadata": {},
   "outputs": [
    {
     "name": "stderr",
     "output_type": "stream",
     "text": [
      "C:\\Users\\luwul\\AppData\\Local\\Temp\\ipykernel_20172\\120267072.py:4: FutureWarning: \n",
      "\n",
      "Passing `palette` without assigning `hue` is deprecated and will be removed in v0.14.0. Assign the `x` variable to `hue` and set `legend=False` for the same effect.\n",
      "\n",
      "  sns.barplot(\n"
     ]
    },
    {
     "data": {
      "image/png": "[encoded data removed]",
      "text/plain": [
       "<Figure size 1000x600 with 1 Axes>"
      ]
     },
     "metadata": {},
     "output_type": "display_data"
    }
   ],
   "source": [
    "label_counts = data['class_label'].value_counts()\n",
    "\n",
    "plt.figure(figsize=(10, 6))\n",
    "sns.barplot(\n",
    "    x=label_counts.index,\n",
    "    y=label_counts.values,\n",
    "    palette=['red', 'green'])\n",
    "\n",
    "# Customize titles and labels\n",
    "plt.xlabel('News Type')\n",
    "plt.ylabel('Count')\n",
    "plt.title('Distribution of Real vs Fake News')\n",
    "plt.xticks([0, 1], ['Fake News (0)', 'Real News (1)'])\n",
    "\n",
    "# Add count on top of each bar\n",
    "for i, count in enumerate(label_counts.values):\n",
    "    plt.text(\n",
    "        i,\n",
    "        count + 100,\n",
    "        f'{count}',\n",
    "        ha='center',\n",
    "        fontweight='bold'\n",
    "    )\n",
    "\n",
    "# Add percentage on top of each bar\n",
    "total = len(data)\n",
    "for i, count in enumerate(label_counts.values):\n",
    "    percentage = (count / total) * 100\n",
    "    plt.text(\n",
    "        i,\n",
    "        count/2,\n",
    "        f'{percentage:.1f}%',\n",
    "        ha='center',\n",
    "        color='white',\n",
    "        fontweight='bold'\n",
    "    )\n",
    "\n",
    "plt.tight_layout()\n",
    "plt.show()"
   ]
  },
  {
   "cell_type": "markdown",
   "metadata": {},
   "source": [
    "To prepare the data for a deeper analysis and later be fed into machine learning algorithms, we transformed the articles written in natural language into a more computer-friendly representation. Firstly, we removed digits, punctuation, and words of 3 characters or shorter. This reduces the amount of tokens in the resulting representation, and they can be safely removed since they don't add much information value to the context of the articles."
   ]
  },
  {
   "cell_type": "code",
   "execution_count": null,
   "metadata": {},
   "outputs": [],
   "source": [
    "# Remove Numbers\n",
    "data['content'] = data['content'].str.replace(r'\\d+', '',regex=True)\n",
    "data['title'] = data['title'].str.replace(r'\\d+', '',regex=True)\n",
    "\n",
    "# Remove Short Words\n",
    "data['content'] = data['content'].str.replace(r'(\\b\\w{1,3}\\b)', '',regex=True)\n",
    "data['title'] = data['title'].str.replace(r'(\\b\\w{1,3}\\b)', '',regex=True)\n",
    "\n",
    "# Remove Punctuation\n",
    "data['content'] = data['content'].str.replace(r'[^\\w\\s]', '',regex=True)\n",
    "data['title'] = data['title'].str.replace(r'[^\\w\\s]', '',regex=True) "
   ]
  },
  {
   "cell_type": "markdown",
   "metadata": {},
   "source": [
    "With a cleaner text to work with, we start the process of tokenizing the articles into term-document matrices. As for the technique chosen for representing the data, we decided on the classical approach term frequency-inverse document frequency (TF-IDF). Due to the massive size of the data we are dealing with, we decided to also implement a step of lemmatization to reduce the words to their lemma and further reduce the tokens in the representation. The article's titles and content were transformed separately and their words were annotated with a suffix when merged into the main dataframe object."
   ]
  },
  {
   "cell_type": "code",
   "execution_count": null,
   "metadata": {},
   "outputs": [],
   "source": [
    "from nltk import word_tokenize          \n",
    "from nltk.stem import WordNetLemmatizer\n",
    "from sklearn.feature_extraction import text\n",
    "from sklearn.feature_extraction.text import TfidfVectorizer\n",
    "\n",
    "nltk.download('punkt')\n",
    "nltk.download('wordnet')\n",
    "\n",
    "class LemmaTokenizer:\n",
    "    def __init__(self):\n",
    "        self.wnl = WordNetLemmatizer()\n",
    "    def __call__(self, doc):\n",
    "        return [self.wnl.lemmatize(t) for t in word_tokenize(doc)]\n",
    "\n",
    "vect = TfidfVectorizer(\n",
    "    max_features=3500,\n",
    "    strip_accents='unicode',\n",
    "    lowercase=True,\n",
    "    stop_words='english',\n",
    "    tokenizer=LemmaTokenizer()\n",
    ")"
   ]
  },
  {
   "cell_type": "code",
   "execution_count": null,
   "metadata": {},
   "outputs": [],
   "source": [
    "bow_content = vect.fit_transform(data['content'])\n",
    "content = pd.DataFrame(bow_content.toarray(),index=data.index.values,columns=vect.get_feature_names_out())\n",
    "vocab_content = vect.vocabulary_\n",
    "\n",
    "bow_title = vect.fit_transform(data['title'])\n",
    "title = pd.DataFrame(bow_title.toarray(),index=data.index.values,columns=vect.get_feature_names_out())\n",
    "vocab_title = vect.vocabulary_"
   ]
  },
  {
   "cell_type": "code",
   "execution_count": null,
   "metadata": {},
   "outputs": [],
   "source": [
    "data.drop(columns='content',inplace=True)\n",
    "data.drop(columns='title',inplace=True)\n",
    "data.drop(columns='date',inplace=True)\n",
    "\n",
    "data = data.join(content,rsuffix='_c')\n",
    "data = data.join(title,rsuffix='_t')\n",
    "\n",
    "display(data)"
   ]
  },
  {
   "cell_type": "markdown",
   "metadata": {},
   "source": [
    "---\n",
    "## **Applying machine learning to detect fake news**"
   ]
  },
  {
   "cell_type": "code",
   "execution_count": null,
   "metadata": {},
   "outputs": [],
   "source": []
  },
  {
   "cell_type": "markdown",
   "metadata": {},
   "source": [
    "---\n",
    "## **Experiment Results and Comments**"
   ]
  }
 ],
 "metadata": {
  "kernelspec": {
   "display_name": "Python 3",
   "language": "python",
   "name": "python3"
  },
  "language_info": {
   "codemirror_mode": {
    "name": "ipython",
    "version": 3
   },
   "file_extension": ".py",
   "mimetype": "text/x-python",
   "name": "python",
   "nbconvert_exporter": "python",
   "pygments_lexer": "ipython3",
   "version": "3.10.6"
  }
 },
 "nbformat": 4,
 "nbformat_minor": 2
}
